{
 "cells": [
  {
   "cell_type": "markdown",
   "id": "4f3665a5-991f-4406-8c6c-1ce0c2cfbe10",
   "metadata": {},
   "source": [
    "# <center> 16th Feb Database Assignment"
   ]
  },
  {
   "cell_type": "markdown",
   "id": "b9428832-23ec-4d04-ab37-3e5d67f9b2bf",
   "metadata": {},
   "source": [
    "Q 1:- What is a database? Differentiate between SQL and NoSQL databases."
   ]
  },
  {
   "cell_type": "markdown",
   "id": "10a88acb-45b7-4091-930c-f474c5a0b613",
   "metadata": {},
   "source": [
    "Ans 1:- A database is a structured collection of data that is organized in a way that makes it easy to manage, access, and update the data. In other words, a database is a system that stores and manages digital data, which can be anything from customer records to financial transactions, product inventories, or user-generated content.\n",
    "\n",
    "SQL databases (or Relational databases) are based on the relational model, which organizes data into tables with predefined columns and rows. SQL stands for Structured Query Language, and it is a language used to manage and manipulate data in relational databases. SQL databases are known for their scalability, reliability, and data consistency. Some popular SQL databases include Oracle, MySQL, and PostgreSQL.\n",
    "\n",
    "On the other hand, NoSQL databases (or non-relational databases) are designed to store and manage unstructured or semi-structured data. They use various models to organize data such as key-value pairs, document-based, graph-based, or column-based. NoSQL databases are known for their flexibility, scalability, and high performance, especially for handling large amounts of unstructured data. Some popular NoSQL databases include MongoDB, Cassandra, and Redis.\n",
    "\n",
    "In summary, the main differences between SQL and NoSQL databases are their data models, query languages, and use cases. SQL databases are more suitable for handling structured data and complex transactions, while NoSQL databases are ideal for handling large volumes of unstructured data with high read and write throughput requirements."
   ]
  },
  {
   "cell_type": "markdown",
   "id": "9a2caf5c-9feb-4872-8dad-4504e1e1cc50",
   "metadata": {},
   "source": [
    "# Q 2:- What is DDL? Explain why CREATE, DROP, ALTER, and TRUNCATE are used with an example."
   ]
  },
  {
   "cell_type": "markdown",
   "id": "b648730d-867f-43f9-8183-396c8243fff9",
   "metadata": {},
   "source": [
    "Ans 2:- DDL (Data Definition Language) is a category of SQL commands that are used to create, modify, and delete database objects such as tables, indexes, views, and constraints. DDL statements are used to define the structure and organization of the database, and they are executed only by users with special privileges, such as database administrators.\n",
    "\n",
    "The four main DDL commands are CREATE, DROP, ALTER, and TRUNCATE, and their functions are as follows:"
   ]
  },
  {
   "cell_type": "raw",
   "id": "c17968e9-f7a0-43a1-9e83-543339c855c2",
   "metadata": {},
   "source": [
    "1. CREATE: This command is used to create a new database object, such as a table, index, view, or constraint. For example, the following SQL statement creates a new table called \"customers\" with three columns:\n",
    "\n",
    "CREATE TABLE customers (\n",
    "customer_id INT PRIMARY KEY,\n",
    "customer_name VARCHAR(50),\n",
    "customer_email VARCHAR(50)\n",
    ");"
   ]
  },
  {
   "cell_type": "raw",
   "id": "3c294f57-c2e8-4f01-a33c-43df363dbcc5",
   "metadata": {},
   "source": [
    "2. DROP: This command is used to delete an existing database object, such as a table, index, view, or constraint. For example, the following SQL statement drops the \"customers\" table:\n",
    "\n",
    "DROP TABLE customers;"
   ]
  },
  {
   "cell_type": "raw",
   "id": "82a21a55-a2e2-4545-a4d2-a532684f6ab3",
   "metadata": {},
   "source": [
    "3. ALTER: This command is used to modify an existing database object, such as adding or deleting columns from a table or changing the data type of a column. For example, the following SQL statement adds a new column called \"customer_address\" to the \"customers\" table:\n",
    "\n",
    "ALTER TABLE customers ADD customer_address VARCHAR(100);"
   ]
  },
  {
   "cell_type": "raw",
   "id": "a774e280-2303-4a41-b217-4af5d8868b01",
   "metadata": {},
   "source": [
    "4. TRUNCATE: This command is used to delete all the data in a table, while keeping the table structure intact. For example, the following SQL statement deletes all the data in the \"customers\" table:\n",
    "\n",
    "TRUNCATE TABLE customers;"
   ]
  },
  {
   "cell_type": "raw",
   "id": "19bfc99f-3b16-4df5-9d37-b929e00fa69e",
   "metadata": {},
   "source": [
    "In summary, DDL commands are used to define and manage the structure of a database, and they are essential for creating and maintaining a well-organized and efficient database system."
   ]
  },
  {
   "cell_type": "markdown",
   "id": "ff2af16e-a00d-47d1-827e-32449ac3601d",
   "metadata": {},
   "source": [
    " "
   ]
  },
  {
   "cell_type": "markdown",
   "id": "cd2fd6b4-2de5-4431-a7f5-3044250b2f4a",
   "metadata": {},
   "source": [
    "# Q3:- What is DML? Explain INSERT, UPDATE, and DELETE with an example."
   ]
  },
  {
   "cell_type": "markdown",
   "id": "8d112fef-841b-4c37-9c91-f4992fbb27d3",
   "metadata": {},
   "source": [
    "Ans 3:-DML (Data Manipulation Language) is a category of SQL commands that are used to insert, update, and delete data from a database. DML commands are used to modify the contents of the database, and they can be executed by any user with the necessary permissions.\n",
    "\n",
    "The three main DML commands are INSERT, UPDATE, and DELETE, and their functions are as follows:"
   ]
  },
  {
   "cell_type": "raw",
   "id": "fa7c21a1-0c44-498f-8a25-5205ea1fa353",
   "metadata": {},
   "source": [
    "1. INSERT: This command is used to add new data to a table. The syntax of the INSERT statement includes the name of the table, the columns to be inserted, and the values to be inserted. For example, the following SQL statement inserts a new record into the \"customers\" table:\n",
    "\n",
    "INSERT INTO customers (customer_id, customer_name, customer_email)\n",
    "VALUES (1, 'John Doe', 'johndoe@example.com');"
   ]
  },
  {
   "cell_type": "raw",
   "id": "3217d926-9777-4903-9721-52523d6af693",
   "metadata": {},
   "source": [
    "2. UPDATE: This command is used to modify existing data in a table. The syntax of the UPDATE statement includes the name of the table, the column to be updated, and the new value. The WHERE clause specifies which records should be updated. For example, the following SQL statement updates the email address of a customer with ID 1:\n",
    "\n",
    "UPDATE customers\n",
    "SET customer_email = 'johndoe@gmail.com'\n",
    "WHERE customer_id = 1;"
   ]
  },
  {
   "cell_type": "raw",
   "id": "25a4ff5e-675a-427f-b59b-549e6ad94b29",
   "metadata": {},
   "source": [
    "3. DELETE: This command is used to remove data from a table. The syntax of the DELETE statement includes the name of the table and the WHERE clause that specifies which records should be deleted. For example, the following SQL statement deletes a customer record with ID 2:\n",
    "\n",
    "DELETE FROM customers\n",
    "WHERE customer_id = 2;"
   ]
  },
  {
   "cell_type": "markdown",
   "id": "81304665-97f3-4a68-b2b4-8ec75becc5fc",
   "metadata": {},
   "source": [
    "DML commands are used to modify the data in a database, and they are essential for adding, updating, and deleting records. By using these commands, users can keep the database up-to-date and accurate."
   ]
  },
  {
   "cell_type": "markdown",
   "id": "4fd86ad4-ab23-4067-8d18-1b150c836435",
   "metadata": {},
   "source": [
    " "
   ]
  },
  {
   "cell_type": "markdown",
   "id": "818873a9-e362-43cd-9a42-0ae21651122e",
   "metadata": {},
   "source": [
    "# Q4:- What is DQL? Explain SELECT with an example."
   ]
  },
  {
   "cell_type": "markdown",
   "id": "53bc776f-a757-4b1f-b961-1043903f4774",
   "metadata": {},
   "source": [
    "Ans 4:- DQL (Data Query Language) is a category of SQL commands that are used to retrieve data from a database. DQL commands are used to query the contents of the database, and they can be executed by any user with the necessary permissions."
   ]
  },
  {
   "cell_type": "raw",
   "id": "7cad90fe-4b68-4dee-ba80-a0f768933541",
   "metadata": {},
   "source": [
    "The most common DQL command is SELECT, which is used to retrieve data from one or more tables in a database. The syntax of the SELECT statement includes the name of the columns to be retrieved and the name of the table(s) to be queried.\n",
    "\n",
    "select customer_name from customer;"
   ]
  },
  {
   "cell_type": "markdown",
   "id": "1db44f0a-340d-4e6c-bfae-67a6510efdf1",
   "metadata": {},
   "source": [
    " "
   ]
  },
  {
   "cell_type": "markdown",
   "id": "2091b229-27d8-4f5b-8214-d4819de59730",
   "metadata": {},
   "source": [
    "# Q5:- Explain Primary Key and Foreign Key."
   ]
  },
  {
   "cell_type": "markdown",
   "id": "3462c0ef-83ad-4c41-898c-3d8584de4533",
   "metadata": {},
   "source": [
    "Ans 5:- In a relational database, a primary key and a foreign key are two important concepts that are used to establish relationships between tables.\n",
    "\n",
    "A primary key is a column or a set of columns in a table that uniquely identifies each row in that table. A primary key is used to ensure that each row in a table is unique and that the table can be accessed efficiently. A primary key is usually defined when a table is created and can be used as a reference by other tables to establish relationships.\n",
    "\n",
    "For example, let's consider a table named \"employees\" with columns \"employee_id\", \"employee_name\", \"employee_email\", and \"employee_department\". In this table, the \"employee_id\" column can be set as the primary key because it is unique and can be used to identify each employee in the table.\n",
    "\n",
    "A foreign key is a column or a set of columns in one table that refers to the primary key of another table. The purpose of a foreign key is to establish a relationship between two tables, such that the values in the foreign key column of one table must match the values in the primary key column of the other table.\n",
    "\n",
    "For example, let's consider another table named \"orders\" with columns \"order_id\", \"order_date\", \"customer_id\", and \"order_total\". In this table, the \"customer_id\" column can be set as a foreign key because it refers to the primary key of the \"customers\" table. This means that the \"customer_id\" values in the \"orders\" table must match the \"customer_id\" values in the \"customers\" table.\n",
    "\n",
    "In summary, a primary key is a unique identifier for each row in a table, while a foreign key establishes a relationship between two tables by linking the primary key of one table to a column in another table. These concepts are essential in designing and managing relational databases."
   ]
  },
  {
   "cell_type": "markdown",
   "id": "9ff3afea-573a-4655-845e-8435da251102",
   "metadata": {},
   "source": [
    "# Q6 :- Write a python code to connect MySQL to python. Explain the cursor() and execute() method."
   ]
  },
  {
   "cell_type": "code",
   "execution_count": null,
   "id": "d1bbcd9d-a7a0-4533-bb69-048e9c5ca7f2",
   "metadata": {},
   "outputs": [],
   "source": [
    "#code to connect MySql with python\n",
    "\n",
    "import mysql.connector\n",
    "\n",
    "mydb= mysql.connector.connect(\n",
    "    host = \"localhost\",\n",
    "    user = \"abc\",\n",
    "    password = \"password\"\n",
    ")\n",
    "\n",
    "mycursor = mydb.cursor()"
   ]
  },
  {
   "cell_type": "raw",
   "id": "0dedd300-7020-4804-8ef7-b1421e72aad5",
   "metadata": {},
   "source": [
    "In the above code, we first import the mysql.connector module and use the connect() method to establish a connection to the MySQL database. We need to provide the database connection details, such as the host, username, password.\n",
    "\n",
    "After establishing the connection, we create a cursor object using the cursor() method of the database connection object. The cursor object allows us to execute SQL statements on the database.\n",
    "\n",
    "The execute() method is used to execute an SQL statement on the database using the cursor object. It takes an SQL statement as its parameter and returns the result of the statement, if any. Here's an example of how to use the execute() method to execute a SELECT statement:"
   ]
  },
  {
   "cell_type": "code",
   "execution_count": null,
   "id": "12a447b4-61ae-47e8-90f3-bd93ce7f6444",
   "metadata": {},
   "outputs": [],
   "source": [
    "\n",
    "mycursor.execute(\"SELECT * FROM customers\")\n",
    "\n",
    "myresult = mycursor.fetchall()\n",
    "\n",
    "for x in myresult:\n",
    "  print(x)"
   ]
  },
  {
   "cell_type": "markdown",
   "id": "7316bcf8-5025-4ed8-a4bb-2cc1f6107fd4",
   "metadata": {},
   "source": [
    "In above code, we call the execute() method on the cursor object, passing the sql query as its parameter. This executes the SELECT statement on the database and returns the result.\n",
    "\n",
    "The fetchall() method is used to fetch all the rows returned by the SELECT statement. It returns a list of tuples, where each tuple represents a row in the result set. You can then loop through the result set and print each row, as shown in the code above.\n",
    "\n",
    "In summary, the cursor() method is used to create a cursor object, which allows you to execute SQL statements on the database. The execute() method is used to execute an SQL statement on the database using the cursor object, and the fetchall() method is used to retrieve the results of the SQL statement."
   ]
  },
  {
   "cell_type": "markdown",
   "id": "9ea7018d-3a93-4666-aae2-a9b48c3c8519",
   "metadata": {},
   "source": [
    " "
   ]
  },
  {
   "cell_type": "markdown",
   "id": "f0ea298f-279b-4ef6-92a5-54b040e1f104",
   "metadata": {},
   "source": [
    "Q7:- Give the order of execution of SQL clauses in an SQL query."
   ]
  },
  {
   "cell_type": "markdown",
   "id": "148a77b5-539f-42c0-ac65-4aa9f14204f1",
   "metadata": {},
   "source": [
    "Ans 7:- The order of execution of SQL clauses in a query is as follows:\n",
    "\n",
    "* FROM clause: This clause identifies the table(s) from which data will be retrieved.\n",
    "\n",
    "* JOIN clause: If multiple tables are involved in the query, the JOIN clause is used to combine them based on common columns.\n",
    "\n",
    "* WHERE clause: This clause is used to filter the data retrieved from the tables based on certain conditions.\n",
    "\n",
    "* GROUP BY clause: This clause is used to group the data retrieved from the tables based on one or more columns.\n",
    "\n",
    "* HAVING clause: If you want to filter the grouped data based on certain conditions, the HAVING clause is used.\n",
    "\n",
    "* SELECT clause: This clause is used to specify the columns that should be included in the output.\n",
    "\n",
    "* DISTINCT clause: This clause is used to eliminate duplicate rows from the output.\n",
    "\n",
    "* ORDER BY clause: This clause is used to sort the output based on one or more columns.\n",
    "\n",
    "* LIMIT clause: This clause is used to limit the number of rows returned in the output.\n",
    "\n",
    "It is important to note that not all of these clauses are required in every SQL query. The order of execution may also change depending on the specific query being executed."
   ]
  },
  {
   "cell_type": "markdown",
   "id": "e0987b31-7f0b-47c5-aa3e-61eafe99aef1",
   "metadata": {},
   "source": [
    "# <center> End of Assignment"
   ]
  },
  {
   "cell_type": "code",
   "execution_count": null,
   "id": "d13eff80-ae79-4652-a294-ae95377bb951",
   "metadata": {},
   "outputs": [],
   "source": []
  }
 ],
 "metadata": {
  "kernelspec": {
   "display_name": "Python 3 (ipykernel)",
   "language": "python",
   "name": "python3"
  },
  "language_info": {
   "codemirror_mode": {
    "name": "ipython",
    "version": 3
   },
   "file_extension": ".py",
   "mimetype": "text/x-python",
   "name": "python",
   "nbconvert_exporter": "python",
   "pygments_lexer": "ipython3",
   "version": "3.10.8"
  }
 },
 "nbformat": 4,
 "nbformat_minor": 5
}
